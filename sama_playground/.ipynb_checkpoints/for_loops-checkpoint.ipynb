{
 "cells": [
  {
   "cell_type": "markdown",
   "id": "e3b0187c-f35f-4f20-b6cf-0c70cd894ce1",
   "metadata": {},
   "source": [
    "# For Loop Example Notebook for Sama, Team Specialk\n",
    "## Author Jeremy Delahanty 11/29/21\n",
    "### Introduction\n",
    "\n",
    "Hey, Sama! Here's an introductory notebook about a few key concepts in Python: `strings`, `iterables`, `for loops`, and `If/Else statements`. We'll go over each of them one at a time and in a little detail via examples. This is my first attempt at explaining things to a budding programmer so let me know if none of this makes sense or is too far! We can go as slow as you need."
   ]
  },
  {
   "cell_type": "markdown",
   "id": "4b63528d-f48f-49bc-a04e-44480eba4828",
   "metadata": {},
   "source": [
    "### Strings: Like on a guitar?\n",
    "\n",
    "Not quite!\n",
    "\n",
    "Strings are a `data type` that encode `characters`. `Data types` basically are different ways of representing information for a computer. We don't need to worry too much about them now.\n",
    "\n",
    "Most commonly, you'll see `strings` used for words or letters but ocasionally even numbers are stored as strings! So what makes something a string and not something else? The magical `quotes` and `apostrophe` keys!\n",
    "\n",
    "Here's some examples of them:\n",
    "\n",
    "- \"I am a string\"\n",
    "- 'I am also a string!'\n",
    "- \"I am a string that contains the number 4!\"\n",
    "- 'I too am a string containing the number 4!'\n",
    "- \"String.\"\n",
    "- 'string'\n",
    "- etc...\n",
    "\n",
    "Notice anything about these examples?\n",
    "\n",
    "The main thing to see is that the start and stop of the string are the same thing! You can't intermix `quotes` with `apostrophes` to start and stop a string. What I mean by that is:\n",
    "\n",
    "- \"Can't do this!'\n",
    "- 'Can't do this either!\"\n",
    "\n",
    "Try out typing these things for yourself in the block below! You can click on the block and then hit `Ctrl-Enter` for the code block to run.\n"
   ]
  },
  {
   "cell_type": "code",
   "execution_count": 1,
   "id": "4a896b1b-d1b6-43aa-9eb0-f762bed216c6",
   "metadata": {},
   "outputs": [],
   "source": [
    "# Quick note: When you see a line that starts with a \"hashtag\" like this one, it's called a \"Comment\".\n",
    "# These are lines that will not be run by the computer and are used primarily for programmers to leave explanations or notes about what the code is up to."
   ]
  },
  {
   "cell_type": "code",
   "execution_count": 2,
   "id": "39752c78-7e2c-4caa-9785-080fe476c34f",
   "metadata": {},
   "outputs": [
    {
     "name": "stdout",
     "output_type": "stream",
     "text": [
      "Hello world!\n"
     ]
    }
   ],
   "source": [
    "# Typing Example\n",
    "\n",
    "# Python has a way of telling you what \"kind\" of data something is by using a function called \"type\"!\n",
    "# It also has a way of printing the result for you with a function called \"print\"!\n",
    "# Try running this block with Ctrl-Enter to see print in action.\n",
    "\n",
    "print(\"Hello world!\")\n"
   ]
  },
  {
   "cell_type": "code",
   "execution_count": 3,
   "id": "9a838d5f-751a-4cf5-b501-59283362be1b",
   "metadata": {},
   "outputs": [
    {
     "name": "stdout",
     "output_type": "stream",
     "text": [
      "<class 'str'>\n"
     ]
    }
   ],
   "source": [
    "# Now, try \"typing\" the data that's inside the print statement by running this block with Ctrl-Enter\n",
    "\n",
    "print(type(\"Hello world!\"))"
   ]
  },
  {
   "cell_type": "markdown",
   "id": "a2fd1691-72c8-44f8-b7b0-368581959f6f",
   "metadata": {},
   "source": [
    "You'll notice that the above block gives you a result that says `class 'str'`. This basically means that the data you're working with is a string! `Str` is the abbreviation for `string` datatypes."
   ]
  },
  {
   "cell_type": "markdown",
   "id": "6e58b284-6c8f-4cea-9361-6f979287d47b",
   "metadata": {},
   "source": [
    "#### Iterables: What the heck is that?\n",
    "\n",
    "An `iterable` is something that you want to _iterate_ over. There's a few different kinds of _iterables_ in Python related to their data types and only certain kinds of things can be iterated upon. We'll go over those kinds of rules at a later point. The main idea is that you can have certain kinds of things you can run a program through one at a time without you having to write it over and over again yourself.\n",
    "\n",
    "One common example is called a `list`! Lists are just what they sound like: A collection of stuff. You can put anything you like into a list! Any kind of variable, data, you name it! For now, lets stick with strings though.\n",
    "\n",
    "Let's make an example with grocery shopping...\n",
    "\n",
    "We want to make team specialk a cake. We need a couple things to make it:\n",
    "\n",
    "- Eggs\n",
    "- Flour\n",
    "- Milk\n",
    "- Frosting\n",
    "\n",
    "Unfortunately, we don't have any paper available. All we have are these fancy computers and digital notebooks. So how do we create our shopping list in Python? We put the items we want to get into a Python `list`! It's written like this:\n",
    "\n",
    "`[\"eggs\", \"flour\", \"milk\", \"frosting\"]`\n",
    "\n",
    "Note that each item in the list here is surrounded by `quotes`, meaning they're strings!"
   ]
  },
  {
   "cell_type": "markdown",
   "id": "3d18b826-0afa-420e-9e85-07553cbd1422",
   "metadata": {},
   "source": [
    "#### For loops: What the heck are those?\n",
    "\n",
    "A `for loop` is used when you have a set of actions you want to perform one after another upon an iterable. In other words, they're used for something that you want to do multiple times in a row.\n",
    "\n",
    "Their syntax is simple:\n",
    "```\n",
    "for item in iterable:\n",
    "    do something cool\n",
    "```\n",
    "\n",
    "It's best explained by an example comparing what a for loop does with an alternative. Let's dive into an example now where we print out each item in our shopping list one at a time."
   ]
  },
  {
   "cell_type": "code",
   "execution_count": 4,
   "id": "8d83b2be-b825-4c91-b76b-cc7a27961d80",
   "metadata": {},
   "outputs": [
    {
     "name": "stdout",
     "output_type": "stream",
     "text": [
      "eggs\n",
      "flour\n",
      "milk\n",
      "frosting\n"
     ]
    }
   ],
   "source": [
    "# Why we should use for loops: An example with printing\n",
    "\n",
    "# We can print out every item in the list by typing out individual print statements one at a time. For example: (Reminder, use Ctrl+Enter to run the block)\n",
    "\n",
    "print(\"eggs\")\n",
    "print(\"flour\")\n",
    "print(\"milk\")\n",
    "print(\"frosting\")"
   ]
  },
  {
   "cell_type": "markdown",
   "id": "f4272884-f3c5-4a0f-b8cd-c8932ab6f20f",
   "metadata": {},
   "source": [
    "This isn't so bad to do for just four items, but imagine you had to print out a list containing hundreds or thousands of items! It would be a nightmare to type out all of those print statements! On top of that, you already spent time making the list once. You'd basically have to rewrite the whole list all over again! So lets see an example that uses a for loop to print out items in the list instead."
   ]
  },
  {
   "cell_type": "code",
   "execution_count": 5,
   "id": "9d3ef046-4ba2-46c6-82c7-f1411e537436",
   "metadata": {},
   "outputs": [
    {
     "name": "stdout",
     "output_type": "stream",
     "text": [
      "eggs\n",
      "flour\n",
      "milk\n",
      "frosting\n"
     ]
    }
   ],
   "source": [
    "# Using for loops: Printing our shopping list again\n",
    "\n",
    "# First, we need to set the list as a variable so python knows what we're talking about:\n",
    "\n",
    "shopping_list = [\"eggs\", \"flour\", \"milk\", \"frosting\"]\n",
    "\n",
    "for item in shopping_list:\n",
    "    print(item)"
   ]
  },
  {
   "cell_type": "markdown",
   "id": "52a38f58-350d-4598-a51f-597892f68aa6",
   "metadata": {},
   "source": [
    "Huzzah! The for loop worked! That was a lot easier than having to type out each and every item in our list!\n",
    "\n",
    "It basically does the same thing that we did in the block above: For every item the loop found in the shopping list, the loop used the `print` function on the item. What's pretty cool is that it required just 2 lines of code instead of 4 to do!\n",
    "\n",
    "Another advantage of having things done with for loops is you can set up rules to do different things with `if/else` statements while the loop runs. Lets try an example where we want to make sure we have everything we need in our shopping list. It turns out we're really forgetful about frosting and don't always include it in our shopping list."
   ]
  },
  {
   "cell_type": "markdown",
   "id": "795a2aa8-d1a5-4f9c-8b97-e47fc3c69567",
   "metadata": {},
   "source": [
    "#### If/Else Statements: What are those?\n",
    "\n",
    "An `if/else` statement is a type of command that Python, as well as basically all other programming languages, use for setting up `conditional` statements. For example, if you forget to write down frosting on your shopping list, then you won't be able to finish your cake later. You can also account for more than two choices by using `else if` aka `elif` in your code. We'll go through an example later...\n",
    "\n",
    "The way we check to see if something meets a condition precisely in Python is by using one of the following:\n",
    "\n",
    "- `==`: Is equal to (ie A equals B)\n",
    "- `<=`: Less than or equal to (ie A is less than B)\n",
    "- `>=`: Greater than or equal to (ie A is greater than B)\n",
    "- `!=`: Not equal to (ie A is _not_ equal to B)\n",
    "- `<`: Less than (ie A is less than B)\n",
    "- `>`: Greater than (ie A is greater than B)\n",
    "\n",
    "They're easy to implement. We'll do that in an example with a `for loop` next."
   ]
  },
  {
   "cell_type": "code",
   "execution_count": 6,
   "id": "1b43e2b1-104f-4b8c-9537-92074beb04b4",
   "metadata": {},
   "outputs": [
    {
     "name": "stdout",
     "output_type": "stream",
     "text": [
      "Did I remember?\n",
      "eggs\n",
      "Still searching\n",
      "flour\n",
      "Still searching\n",
      "milk\n",
      "Still searching\n"
     ]
    }
   ],
   "source": [
    "# Forgetting frosting?\n",
    "\n",
    "forgetful_shopping_list = [\"eggs\", \"flour\", \"milk\"]\n",
    "\n",
    "# Lets write a for loop with an if/else statement to check if we've forgotten frosting in the new shopping lists. \n",
    "\n",
    "print(\"Did I remember?\")\n",
    "for item in forgetful_shopping_list:\n",
    "    print(item)\n",
    "    if item == \"frosting\":\n",
    "        print(\"You remembered frosting!\")\n",
    "    else:\n",
    "        print(\"Not yet...\")"
   ]
  },
  {
   "cell_type": "markdown",
   "id": "b708cb6e-f079-438e-961c-09965a9fb250",
   "metadata": {},
   "source": [
    "In this block, we can see that the shopping list didn't contain the list! Let's try our first list."
   ]
  },
  {
   "cell_type": "code",
   "execution_count": 7,
   "id": "accf6371-59e6-49a3-b74b-1f5a767ba7e5",
   "metadata": {},
   "outputs": [
    {
     "name": "stdout",
     "output_type": "stream",
     "text": [
      "Did I remember?\n",
      "eggs\n",
      "Not yet...\n",
      "flour\n",
      "Not yet...\n",
      "milk\n",
      "Not yet...\n",
      "frosting\n",
      "You remembered frosting!\n"
     ]
    }
   ],
   "source": [
    "# Forgetting frosting?\n",
    "\n",
    "# Lets write a for loop with an if/else statement to check if we've forgotten frosting in the new shopping lists. \n",
    "print(\"Did I remember?\")\n",
    "for item in shopping_list:\n",
    "    print(item)\n",
    "    if item == \"frosting\":\n",
    "        print(\"You remembered frosting!\")\n",
    "    else:\n",
    "        print(\"Not yet...\")"
   ]
  },
  {
   "cell_type": "markdown",
   "id": "3365e554-b611-4249-9751-2578effe9f73",
   "metadata": {},
   "source": [
    "In this block, we can see that the shopping list did contain the list!"
   ]
  },
  {
   "cell_type": "code",
   "execution_count": null,
   "id": "1c9831af-643d-491e-8276-6ac3b9d25098",
   "metadata": {},
   "outputs": [],
   "source": []
  }
 ],
 "metadata": {
  "kernelspec": {
   "display_name": "Python 3",
   "language": "python",
   "name": "python3"
  },
  "language_info": {
   "codemirror_mode": {
    "name": "ipython",
    "version": 3
   },
   "file_extension": ".py",
   "mimetype": "text/x-python",
   "name": "python",
   "nbconvert_exporter": "python",
   "pygments_lexer": "ipython3",
   "version": "3.9.6"
  }
 },
 "nbformat": 4,
 "nbformat_minor": 5
}

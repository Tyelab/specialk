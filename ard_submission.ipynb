{
 "cells": [
  {
   "cell_type": "markdown",
   "id": "guilty-paraguay",
   "metadata": {},
   "source": [
    "# Import necessary packages"
   ]
  },
  {
   "cell_type": "code",
   "execution_count": 1,
   "id": "ecological-anatomy",
   "metadata": {},
   "outputs": [],
   "source": [
    "import pandas as pd\n",
    "from datetime import datetime\n",
    "import datajoint as dj\n",
    "import math"
   ]
  },
  {
   "cell_type": "markdown",
   "id": "confidential-animal",
   "metadata": {},
   "source": [
    "# Collect ARD File and Investigator"
   ]
  },
  {
   "cell_type": "code",
   "execution_count": 2,
   "id": "above-newspaper",
   "metadata": {},
   "outputs": [],
   "source": [
    "#TODO: standardize file location on server + file name\n",
    "file = \"/home/jeremyd/Desktop/Animal orders_Tye Lab.csv\"\n",
    "#TODO: create options list so you don't have to type your own name\n",
    "investigator = \"Coley, Austin\"\n",
    "\n",
    "# Collect today's date\n",
    "day = datetime.today().strftime('%Y%m%d')"
   ]
  },
  {
   "cell_type": "markdown",
   "id": "seven-nancy",
   "metadata": {},
   "source": [
    "# Connect to Database"
   ]
  },
  {
   "cell_type": "code",
   "execution_count": 3,
   "id": "pointed-domain",
   "metadata": {},
   "outputs": [
    {
     "name": "stdin",
     "output_type": "stream",
     "text": [
      "Please enter DataJoint username:  jeremyd\n",
      "Please enter DataJoint password:  ··············\n"
     ]
    },
    {
     "name": "stdout",
     "output_type": "stream",
     "text": [
      "Connecting jeremyd@localhost:3306\n",
      "Done\n"
     ]
    }
   ],
   "source": [
    "# Using DataJoint, define schema of interest as specialk\n",
    "# For now, as of 3.4.21, only specialk has tables ready. This will need to be more flexible with more users.\n",
    "schema = dj.schema(\"specialk\")\n",
    "# Datajoint asks for username and password...\n",
    "\n",
    "#Create Datajoint classes from Database for session\n",
    "schema.spawn_missing_classes()\n",
    "\n",
    "# Tell user database is ready for use.\n",
    "print(\"Done\")"
   ]
  },
  {
   "cell_type": "markdown",
   "id": "designed-henry",
   "metadata": {},
   "source": [
    "# Define ARD Import"
   ]
  },
  {
   "cell_type": "code",
   "execution_count": 4,
   "id": "directed-jackson",
   "metadata": {},
   "outputs": [],
   "source": [
    "def ard_import(file, investigator):\n",
    "    \"\"\"\n",
    "    Take csv from eSirius, process data, and submit to DataJoint.\n",
    "    file: directory of csv for new import\n",
    "    investigator: string of experimenter name, \"Last, First\"\n",
    "    \"\"\"\n",
    "    \n",
    "    # Define list of ARD information found in eSirius csv\n",
    "    # Species name, vendor name, order number, strain, sex, # animal per cage, # cages, arrival date\n",
    "    ard_list = ['sp_nm', 'vend_nm', 'order_no', 'strain', 'sex', 'per_cage', 'cages', 'd_expect']\n",
    "    \n",
    "    # Read in the csv from ARD with pandas\n",
    "    # Use file from argument, separator=',', use first row as header\n",
    "    ard_file = pd.read_csv(file, sep=',', header=0)\n",
    "    \n",
    "    # Select only animals needed for investigator's project\n",
    "    # use pandas.query() to select orders only for investigator of interest w/ @ method in pandas\n",
    "    df_orders = ard_file.query(\"requestor == @investigator\")\n",
    "    \n",
    "    # Parse dataframe for only relevant information using ard_list\n",
    "    df_orders = df_orders[ard_list]\n",
    "    \n",
    "    # Set index name order_id\n",
    "    df_orders.index.name = \"order_id\"\n",
    "    \n",
    "    # Parse time from csv into SQL compatible time\n",
    "    # Select date expected column and map a lambda function to the columns values\n",
    "    # Use map instead of apply because .map() is meant for series data\n",
    "    df_orders['d_expect'] = df_orders['d_expect'].map(lambda x: datetime.strptime(x, '%x'))\n",
    "    \n",
    "    return(df_orders)\n",
    "    \n",
    "    "
   ]
  },
  {
   "cell_type": "markdown",
   "id": "played-tumor",
   "metadata": {},
   "source": [
    "# Define Spawn Cages"
   ]
  },
  {
   "cell_type": "code",
   "execution_count": 22,
   "id": "executive-donor",
   "metadata": {},
   "outputs": [],
   "source": [
    "def spawn_cages(r, num_animals, num_cages, database):\n",
    "    \"\"\"\n",
    "    Take row, r, from dataframe generated from iterrows() and generate a cage of animals.\n",
    "    Do this iteratively for the number of cages in each order.\n",
    "    Each cage generated is inserted into the Database.\n",
    "    Args:\n",
    "    r: row from dataframe\n",
    "    num_animals: dataframe.per_cage\n",
    "    num_cages: dataframe.cages\n",
    "    database: DataJoint database schema for insert statement\n",
    "    \"\"\"\n",
    "    \n",
    "    # For each cage received\n",
    "    for cage in range(0, num_cages):\n",
    "        \n",
    "        # Get current state of database\n",
    "        mouse_df = pd.DataFrame(Mouse.fetch()).set_index('id')\n",
    "\n",
    "        # Select cage_id series from dataframe generated by DataJoint fetch\n",
    "        cages = mouse_df.cage_id\n",
    "\n",
    "        # Get last cage id\n",
    "        max_cage_id = cages.max()\n",
    "        \n",
    "        # If no cage records exist, start one\n",
    "        if math.isnan(max_cage_id) == True:\n",
    "            new_cage_id = 1\n",
    "        \n",
    "        # If cage records exist, use last id and add 1\n",
    "        else:\n",
    "            new_cage_id = max_cage_id + 1\n",
    "\n",
    "        # Define dictionary of values for later database submission, ard_dict:\n",
    "        # Notice that animal_id is not collected. \n",
    "        # The Database will auto-increment the animal ids upon insertion.\n",
    "        # Each animal has a unique ID in the database.\n",
    "        ard_dict = {\n",
    "        'sex':r.sex, 'species':r.sp_nm, 'strain':r.strain, 'vendor':r.vend_nm, \n",
    "        'arrived_on':r.d_expect, 'order_no':r.order_no, 'active':1, 'created':day,\n",
    "        'cage_id': new_cage_id\n",
    "        }\n",
    "\n",
    "        # For each animal in a cage, create a dictionary and store it using list comprehension.\n",
    "        # List of dictionaries is compatible with DataJoint insert statements.\n",
    "        new_cage = [ard_dict for i in range(0, num_animals)]\n",
    "\n",
    "        # Insert new cage with DataJoint insert statement.\n",
    "        print(\"Order Number:\", r.order_no, \"Cage Number:\", cage+1)\n",
    "        Mouse.insert(new_cage)\n",
    "        print(\"Inserted\")\n",
    "        \n",
    "        # Reset new_cage\n",
    "        new_cage = []\n",
    "    \n",
    "    return _\n",
    "    \n",
    "    "
   ]
  },
  {
   "cell_type": "markdown",
   "id": "tracked-monitoring",
   "metadata": {},
   "source": [
    "# Define Spawn Orders"
   ]
  },
  {
   "cell_type": "code",
   "execution_count": 21,
   "id": "collect-accreditation",
   "metadata": {},
   "outputs": [],
   "source": [
    "def spawn_orders(dataframe):\n",
    "    \"\"\"\n",
    "    Take in order dataframe generated from ard_import and use iterrows() to process each order.\n",
    "    \"\"\"\n",
    "    # Use dataframe.iterrows() to take each order and spawn cages\n",
    "    for index, row in dataframe.iterrows():\n",
    "        spawn_cages(row, row.per_cage, row.cages, Mouse)\n",
    "    \n",
    "    return _"
   ]
  },
  {
   "cell_type": "code",
   "execution_count": 18,
   "id": "above-allergy",
   "metadata": {},
   "outputs": [
    {
     "name": "stdout",
     "output_type": "stream",
     "text": [
      "Order Number: A0011304 Cage Number: 1\n",
      "Inserted\n",
      "Order Number: A0011304 Cage Number: 2\n",
      "Inserted\n",
      "Order Number: A0011304 Cage Number: 3\n",
      "Inserted\n",
      "Order Number: A0011304 Cage Number: 1\n",
      "Inserted\n",
      "Order Number: A0011304 Cage Number: 2\n",
      "Inserted\n",
      "Order Number: A0011304 Cage Number: 3\n",
      "Inserted\n",
      "Order Number: A0011237 Cage Number: 1\n",
      "Inserted\n",
      "Order Number: A0011237 Cage Number: 2\n",
      "Inserted\n",
      "Order Number: A0011237 Cage Number: 3\n",
      "Inserted\n",
      "Order Number: A0011237 Cage Number: 1\n",
      "Inserted\n",
      "Order Number: A0011237 Cage Number: 2\n",
      "Inserted\n",
      "Order Number: A0011237 Cage Number: 3\n",
      "Inserted\n"
     ]
    }
   ],
   "source": [
    "spawn_orders(ard_import(file, investigator))"
   ]
  },
  {
   "cell_type": "code",
   "execution_count": 23,
   "id": "cardiovascular-marina",
   "metadata": {},
   "outputs": [
    {
     "data": {
      "text/html": [
       "<div>\n",
       "<style scoped>\n",
       "    .dataframe tbody tr th:only-of-type {\n",
       "        vertical-align: middle;\n",
       "    }\n",
       "\n",
       "    .dataframe tbody tr th {\n",
       "        vertical-align: top;\n",
       "    }\n",
       "\n",
       "    .dataframe thead th {\n",
       "        text-align: right;\n",
       "    }\n",
       "</style>\n",
       "<table border=\"1\" class=\"dataframe\">\n",
       "  <thead>\n",
       "    <tr style=\"text-align: right;\">\n",
       "      <th></th>\n",
       "      <th>sex</th>\n",
       "      <th>species</th>\n",
       "      <th>strain</th>\n",
       "      <th>vendor</th>\n",
       "      <th>age</th>\n",
       "      <th>arrived_on</th>\n",
       "      <th>order_no</th>\n",
       "      <th>ard_id</th>\n",
       "      <th>cage_id</th>\n",
       "      <th>exp_code</th>\n",
       "      <th>active</th>\n",
       "      <th>created</th>\n",
       "      <th>updated</th>\n",
       "    </tr>\n",
       "    <tr>\n",
       "      <th>id</th>\n",
       "      <th></th>\n",
       "      <th></th>\n",
       "      <th></th>\n",
       "      <th></th>\n",
       "      <th></th>\n",
       "      <th></th>\n",
       "      <th></th>\n",
       "      <th></th>\n",
       "      <th></th>\n",
       "      <th></th>\n",
       "      <th></th>\n",
       "      <th></th>\n",
       "      <th></th>\n",
       "    </tr>\n",
       "  </thead>\n",
       "  <tbody>\n",
       "  </tbody>\n",
       "</table>\n",
       "</div>"
      ],
      "text/plain": [
       "Empty DataFrame\n",
       "Columns: [sex, species, strain, vendor, age, arrived_on, order_no, ard_id, cage_id, exp_code, active, created, updated]\n",
       "Index: []"
      ]
     },
     "execution_count": 23,
     "metadata": {},
     "output_type": "execute_result"
    }
   ],
   "source": [
    "df = pd.DataFrame(Mouse.fetch())\n",
    "df.set_index('id')"
   ]
  },
  {
   "cell_type": "code",
   "execution_count": null,
   "id": "following-enforcement",
   "metadata": {},
   "outputs": [],
   "source": []
  }
 ],
 "metadata": {
  "kernelspec": {
   "display_name": "Python 3",
   "language": "python",
   "name": "python3"
  },
  "language_info": {
   "codemirror_mode": {
    "name": "ipython",
    "version": 3
   },
   "file_extension": ".py",
   "mimetype": "text/x-python",
   "name": "python",
   "nbconvert_exporter": "python",
   "pygments_lexer": "ipython3",
   "version": "3.9.1"
  }
 },
 "nbformat": 4,
 "nbformat_minor": 5
}
